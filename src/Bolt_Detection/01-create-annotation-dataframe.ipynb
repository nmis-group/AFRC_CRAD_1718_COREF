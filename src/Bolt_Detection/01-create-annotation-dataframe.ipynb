{
 "cells": [
  {
   "cell_type": "code",
   "execution_count": 4,
   "metadata": {},
   "outputs": [],
   "source": [
    "%reload_ext autoreload\n",
    "%autoreload 2\n",
    "%matplotlib inline"
   ]
  },
  {
   "cell_type": "code",
   "execution_count": 5,
   "metadata": {},
   "outputs": [],
   "source": [
    "from utils import *"
   ]
  },
  {
   "cell_type": "code",
   "execution_count": 6,
   "metadata": {},
   "outputs": [],
   "source": [
    "#root_img = r'I:\\AFRC\\AFRC-Teams\\Engineering\\Digital\\Data Analytics\\datasets\\2022-01-01--bitzblock-images-coref\\images_new'\n",
    "#root_annotation = r'I:\\AFRC\\AFRC-Teams\\Engineering\\Digital\\Data Analytics\\datasets\\2022-01-01--bitzblock-images-coref\\exported\\labels\\img-all\\Annotations'\n",
    "#root_img = r'C:\\Users\\hwb20103\\Github\\AFRC_CRAD_1718_COREF\\Training_Data\\images'\n",
    "#root_annotation = r'C:\\Users\\hwb20103\\Github\\AFRC_CRAD_1718_COREF\\Training_Data\\exported-labels\\img-all\\Annotations'\n",
    "df = generate_df(root_annotation, root_img)\n"
   ]
  },
  {
   "cell_type": "code",
   "execution_count": 7,
   "metadata": {},
   "outputs": [
    {
     "data": {
      "text/html": [
       "<div>\n",
       "<style scoped>\n",
       "    .dataframe tbody tr th:only-of-type {\n",
       "        vertical-align: middle;\n",
       "    }\n",
       "\n",
       "    .dataframe tbody tr th {\n",
       "        vertical-align: top;\n",
       "    }\n",
       "\n",
       "    .dataframe thead th {\n",
       "        text-align: right;\n",
       "    }\n",
       "</style>\n",
       "<table border=\"1\" class=\"dataframe\">\n",
       "  <thead>\n",
       "    <tr style=\"text-align: right;\">\n",
       "      <th></th>\n",
       "      <th>filename</th>\n",
       "      <th>width</th>\n",
       "      <th>height</th>\n",
       "      <th>class</th>\n",
       "      <th>bboxes</th>\n",
       "    </tr>\n",
       "  </thead>\n",
       "  <tbody>\n",
       "    <tr>\n",
       "      <th>0</th>\n",
       "      <td>C:\\Users\\hwb20103\\Github\\AFRC_CRAD_1718_COREF\\...</td>\n",
       "      <td>4032</td>\n",
       "      <td>3024</td>\n",
       "      <td>Bolt</td>\n",
       "      <td>[[366, 324, 566, 524], [2527, 324, 2727, 524],...</td>\n",
       "    </tr>\n",
       "    <tr>\n",
       "      <th>1</th>\n",
       "      <td>C:\\Users\\hwb20103\\Github\\AFRC_CRAD_1718_COREF\\...</td>\n",
       "      <td>4032</td>\n",
       "      <td>3024</td>\n",
       "      <td>Bolt</td>\n",
       "      <td>[[371, 334, 576, 529], [381, 1018, 581, 1212],...</td>\n",
       "    </tr>\n",
       "    <tr>\n",
       "      <th>2</th>\n",
       "      <td>C:\\Users\\hwb20103\\Github\\AFRC_CRAD_1718_COREF\\...</td>\n",
       "      <td>4032</td>\n",
       "      <td>3024</td>\n",
       "      <td>Bolt</td>\n",
       "      <td>[[366, 324, 561, 524], [361, 1013, 561, 1212],...</td>\n",
       "    </tr>\n",
       "    <tr>\n",
       "      <th>3</th>\n",
       "      <td>C:\\Users\\hwb20103\\Github\\AFRC_CRAD_1718_COREF\\...</td>\n",
       "      <td>4032</td>\n",
       "      <td>3024</td>\n",
       "      <td>Bolt</td>\n",
       "      <td>[[366, 324, 566, 519], [366, 1023, 566, 1222],...</td>\n",
       "    </tr>\n",
       "    <tr>\n",
       "      <th>4</th>\n",
       "      <td>C:\\Users\\hwb20103\\Github\\AFRC_CRAD_1718_COREF\\...</td>\n",
       "      <td>4032</td>\n",
       "      <td>3024</td>\n",
       "      <td>Bolt</td>\n",
       "      <td>[[1434, 344, 1629, 544], [2492, 344, 2697, 549...</td>\n",
       "    </tr>\n",
       "  </tbody>\n",
       "</table>\n",
       "</div>"
      ],
      "text/plain": [
       "                                            filename width height class  \\\n",
       "0  C:\\Users\\hwb20103\\Github\\AFRC_CRAD_1718_COREF\\...  4032   3024  Bolt   \n",
       "1  C:\\Users\\hwb20103\\Github\\AFRC_CRAD_1718_COREF\\...  4032   3024  Bolt   \n",
       "2  C:\\Users\\hwb20103\\Github\\AFRC_CRAD_1718_COREF\\...  4032   3024  Bolt   \n",
       "3  C:\\Users\\hwb20103\\Github\\AFRC_CRAD_1718_COREF\\...  4032   3024  Bolt   \n",
       "4  C:\\Users\\hwb20103\\Github\\AFRC_CRAD_1718_COREF\\...  4032   3024  Bolt   \n",
       "\n",
       "                                              bboxes  \n",
       "0  [[366, 324, 566, 524], [2527, 324, 2727, 524],...  \n",
       "1  [[371, 334, 576, 529], [381, 1018, 581, 1212],...  \n",
       "2  [[366, 324, 561, 524], [361, 1013, 561, 1212],...  \n",
       "3  [[366, 324, 566, 519], [366, 1023, 566, 1222],...  \n",
       "4  [[1434, 344, 1629, 544], [2492, 344, 2697, 549...  "
      ]
     },
     "execution_count": 7,
     "metadata": {},
     "output_type": "execute_result"
    }
   ],
   "source": [
    "df.head()"
   ]
  },
  {
   "cell_type": "code",
   "execution_count": 8,
   "metadata": {},
   "outputs": [],
   "source": [
    "df = df.dropna()"
   ]
  },
  {
   "cell_type": "code",
   "execution_count": 9,
   "metadata": {},
   "outputs": [],
   "source": [
    "df = df.reset_index(drop=True)"
   ]
  },
  {
   "cell_type": "code",
   "execution_count": 10,
   "metadata": {},
   "outputs": [
    {
     "data": {
      "text/plain": [
       "179"
      ]
     },
     "execution_count": 10,
     "metadata": {},
     "output_type": "execute_result"
    }
   ],
   "source": [
    "len(df)"
   ]
  },
  {
   "cell_type": "code",
   "execution_count": 18,
   "metadata": {},
   "outputs": [],
   "source": [
    "# Hard code for split function. When the files stored within different directory with '_', it will have different number.\n",
    "def bolts_count(x):\n",
    "    return int(str(x).split('_')[5])"
   ]
  },
  {
   "cell_type": "code",
   "execution_count": 19,
   "metadata": {},
   "outputs": [],
   "source": [
    "df['total_bolts'] = df.filename.apply(bolts_count)"
   ]
  },
  {
   "cell_type": "code",
   "execution_count": 20,
   "metadata": {},
   "outputs": [
    {
     "data": {
      "text/html": [
       "<div>\n",
       "<style scoped>\n",
       "    .dataframe tbody tr th:only-of-type {\n",
       "        vertical-align: middle;\n",
       "    }\n",
       "\n",
       "    .dataframe tbody tr th {\n",
       "        vertical-align: top;\n",
       "    }\n",
       "\n",
       "    .dataframe thead th {\n",
       "        text-align: right;\n",
       "    }\n",
       "</style>\n",
       "<table border=\"1\" class=\"dataframe\">\n",
       "  <thead>\n",
       "    <tr style=\"text-align: right;\">\n",
       "      <th></th>\n",
       "      <th>filename</th>\n",
       "      <th>width</th>\n",
       "      <th>height</th>\n",
       "      <th>class</th>\n",
       "      <th>bboxes</th>\n",
       "      <th>total_bolts</th>\n",
       "    </tr>\n",
       "  </thead>\n",
       "  <tbody>\n",
       "    <tr>\n",
       "      <th>0</th>\n",
       "      <td>C:\\Users\\hwb20103\\Github\\AFRC_CRAD_1718_COREF\\...</td>\n",
       "      <td>4032</td>\n",
       "      <td>3024</td>\n",
       "      <td>Bolt</td>\n",
       "      <td>[[366, 324, 566, 524], [2527, 324, 2727, 524],...</td>\n",
       "      <td>11</td>\n",
       "    </tr>\n",
       "    <tr>\n",
       "      <th>1</th>\n",
       "      <td>C:\\Users\\hwb20103\\Github\\AFRC_CRAD_1718_COREF\\...</td>\n",
       "      <td>4032</td>\n",
       "      <td>3024</td>\n",
       "      <td>Bolt</td>\n",
       "      <td>[[371, 334, 576, 529], [381, 1018, 581, 1212],...</td>\n",
       "      <td>11</td>\n",
       "    </tr>\n",
       "    <tr>\n",
       "      <th>2</th>\n",
       "      <td>C:\\Users\\hwb20103\\Github\\AFRC_CRAD_1718_COREF\\...</td>\n",
       "      <td>4032</td>\n",
       "      <td>3024</td>\n",
       "      <td>Bolt</td>\n",
       "      <td>[[366, 324, 561, 524], [361, 1013, 561, 1212],...</td>\n",
       "      <td>11</td>\n",
       "    </tr>\n",
       "    <tr>\n",
       "      <th>3</th>\n",
       "      <td>C:\\Users\\hwb20103\\Github\\AFRC_CRAD_1718_COREF\\...</td>\n",
       "      <td>4032</td>\n",
       "      <td>3024</td>\n",
       "      <td>Bolt</td>\n",
       "      <td>[[366, 324, 566, 519], [366, 1023, 566, 1222],...</td>\n",
       "      <td>11</td>\n",
       "    </tr>\n",
       "    <tr>\n",
       "      <th>4</th>\n",
       "      <td>C:\\Users\\hwb20103\\Github\\AFRC_CRAD_1718_COREF\\...</td>\n",
       "      <td>4032</td>\n",
       "      <td>3024</td>\n",
       "      <td>Bolt</td>\n",
       "      <td>[[1434, 344, 1629, 544], [2492, 344, 2697, 549...</td>\n",
       "      <td>11</td>\n",
       "    </tr>\n",
       "  </tbody>\n",
       "</table>\n",
       "</div>"
      ],
      "text/plain": [
       "                                            filename width height class  \\\n",
       "0  C:\\Users\\hwb20103\\Github\\AFRC_CRAD_1718_COREF\\...  4032   3024  Bolt   \n",
       "1  C:\\Users\\hwb20103\\Github\\AFRC_CRAD_1718_COREF\\...  4032   3024  Bolt   \n",
       "2  C:\\Users\\hwb20103\\Github\\AFRC_CRAD_1718_COREF\\...  4032   3024  Bolt   \n",
       "3  C:\\Users\\hwb20103\\Github\\AFRC_CRAD_1718_COREF\\...  4032   3024  Bolt   \n",
       "4  C:\\Users\\hwb20103\\Github\\AFRC_CRAD_1718_COREF\\...  4032   3024  Bolt   \n",
       "\n",
       "                                              bboxes  total_bolts  \n",
       "0  [[366, 324, 566, 524], [2527, 324, 2727, 524],...           11  \n",
       "1  [[371, 334, 576, 529], [381, 1018, 581, 1212],...           11  \n",
       "2  [[366, 324, 561, 524], [361, 1013, 561, 1212],...           11  \n",
       "3  [[366, 324, 566, 519], [366, 1023, 566, 1222],...           11  \n",
       "4  [[1434, 344, 1629, 544], [2492, 344, 2697, 549...           11  "
      ]
     },
     "execution_count": 20,
     "metadata": {},
     "output_type": "execute_result"
    }
   ],
   "source": [
    "df.head()"
   ]
  },
  {
   "cell_type": "code",
   "execution_count": 11,
   "metadata": {},
   "outputs": [],
   "source": [
    "df.to_csv('dataset.csv', index=False)"
   ]
  },
  {
   "cell_type": "code",
   "execution_count": null,
   "metadata": {},
   "outputs": [],
   "source": []
  }
 ],
 "metadata": {
  "kernelspec": {
   "display_name": "pytorch",
   "language": "python",
   "name": "deep"
  },
  "language_info": {
   "codemirror_mode": {
    "name": "ipython",
    "version": 3
   },
   "file_extension": ".py",
   "mimetype": "text/x-python",
   "name": "python",
   "nbconvert_exporter": "python",
   "pygments_lexer": "ipython3",
   "version": "3.8.3"
  }
 },
 "nbformat": 4,
 "nbformat_minor": 4
}
