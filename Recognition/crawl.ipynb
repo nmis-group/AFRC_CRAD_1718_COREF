{
 "cells": [
  {
   "cell_type": "code",
   "execution_count": null,
   "metadata": {},
   "outputs": [],
   "source": [
    "#To crawler negative image for training \n",
    "from icrawler.builtin import BingImageCrawler\n",
    "\n",
    "#we are building cats image detection that's why we put cat here\n",
    "#if you want some other images then put that name in classes list\n",
    "classes=['industrial computer images', 'trees','roads','Human faces']\n",
    "number=100\n",
    "\n",
    "#here root directory is find your root directory there u will find \n",
    "#new file name data in which all images are saved.\n",
    "for c in classes:\n",
    "    bing_crawler=BingImageCrawler(storage={'root_dir':f'p/{c.replace(\" \",\".\")}'})\n",
    "    bing_crawler.crawl(keyword=c,filters=None,max_num=number,offset=0)\n"
   ]
  }
 ],
 "metadata": {
  "kernelspec": {
   "display_name": "Python 3",
   "language": "python",
   "name": "python3"
  },
  "language_info": {
   "codemirror_mode": {
    "name": "ipython",
    "version": 3
   },
   "file_extension": ".py",
   "mimetype": "text/x-python",
   "name": "python",
   "nbconvert_exporter": "python",
   "pygments_lexer": "ipython3",
   "version": "3.8.5"
  }
 },
 "nbformat": 4,
 "nbformat_minor": 4
}
