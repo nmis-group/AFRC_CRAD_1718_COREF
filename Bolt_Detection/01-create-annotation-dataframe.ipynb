{
 "cells": [
  {
   "cell_type": "code",
   "execution_count": 7,
   "metadata": {},
   "outputs": [],
   "source": [
    "%reload_ext autoreload\n",
    "%autoreload 2\n",
    "%matplotlib inline"
   ]
  },
  {
   "cell_type": "code",
   "execution_count": 8,
   "metadata": {},
   "outputs": [],
   "source": [
    "from utils import *"
   ]
  },
  {
   "cell_type": "code",
   "execution_count": 11,
   "metadata": {},
   "outputs": [],
   "source": [
    "root_img = '/home/astamoulakatos/OneDrive_1_1-20-2022/images/'\n",
    "root_annotation = '/home/astamoulakatos/OneDrive_1_1-20-2022/exported-labels/img-all/Annotations/'\n",
    "df = generate_df(root_annotation, root_img)"
   ]
  },
  {
   "cell_type": "code",
   "execution_count": 12,
   "metadata": {},
   "outputs": [
    {
     "data": {
      "text/html": [
       "<div>\n",
       "<style scoped>\n",
       "    .dataframe tbody tr th:only-of-type {\n",
       "        vertical-align: middle;\n",
       "    }\n",
       "\n",
       "    .dataframe tbody tr th {\n",
       "        vertical-align: top;\n",
       "    }\n",
       "\n",
       "    .dataframe thead th {\n",
       "        text-align: right;\n",
       "    }\n",
       "</style>\n",
       "<table border=\"1\" class=\"dataframe\">\n",
       "  <thead>\n",
       "    <tr style=\"text-align: right;\">\n",
       "      <th></th>\n",
       "      <th>filename</th>\n",
       "      <th>width</th>\n",
       "      <th>height</th>\n",
       "      <th>class</th>\n",
       "      <th>bboxes</th>\n",
       "    </tr>\n",
       "  </thead>\n",
       "  <tbody>\n",
       "    <tr>\n",
       "      <th>0</th>\n",
       "      <td>/home/astamoulakatos/OneDrive_1_1-20-2022/imag...</td>\n",
       "      <td>4032</td>\n",
       "      <td>3024</td>\n",
       "      <td>Bolt</td>\n",
       "      <td>[[316, 319, 511, 519]]</td>\n",
       "    </tr>\n",
       "    <tr>\n",
       "      <th>1</th>\n",
       "      <td>/home/astamoulakatos/OneDrive_1_1-20-2022/imag...</td>\n",
       "      <td>4032</td>\n",
       "      <td>3024</td>\n",
       "      <td>Bolt</td>\n",
       "      <td>[[3535, 2440, 3740, 2639]]</td>\n",
       "    </tr>\n",
       "    <tr>\n",
       "      <th>2</th>\n",
       "      <td>/home/astamoulakatos/OneDrive_1_1-20-2022/imag...</td>\n",
       "      <td>4032</td>\n",
       "      <td>3024</td>\n",
       "      <td>Bolt</td>\n",
       "      <td>[[3530, 329, 3725, 524]]</td>\n",
       "    </tr>\n",
       "    <tr>\n",
       "      <th>3</th>\n",
       "      <td>/home/astamoulakatos/OneDrive_1_1-20-2022/imag...</td>\n",
       "      <td>1512</td>\n",
       "      <td>2016</td>\n",
       "      <td>Bolt</td>\n",
       "      <td>[[1286, 1244, 1383, 1344], [218, 123, 315, 223...</td>\n",
       "    </tr>\n",
       "    <tr>\n",
       "      <th>4</th>\n",
       "      <td>/home/astamoulakatos/OneDrive_1_1-20-2022/imag...</td>\n",
       "      <td>4032</td>\n",
       "      <td>3024</td>\n",
       "      <td>Bolt</td>\n",
       "      <td>[[292, 2510, 491, 2704]]</td>\n",
       "    </tr>\n",
       "  </tbody>\n",
       "</table>\n",
       "</div>"
      ],
      "text/plain": [
       "                                            filename width height class  \\\n",
       "0  /home/astamoulakatos/OneDrive_1_1-20-2022/imag...  4032   3024  Bolt   \n",
       "1  /home/astamoulakatos/OneDrive_1_1-20-2022/imag...  4032   3024  Bolt   \n",
       "2  /home/astamoulakatos/OneDrive_1_1-20-2022/imag...  4032   3024  Bolt   \n",
       "3  /home/astamoulakatos/OneDrive_1_1-20-2022/imag...  1512   2016  Bolt   \n",
       "4  /home/astamoulakatos/OneDrive_1_1-20-2022/imag...  4032   3024  Bolt   \n",
       "\n",
       "                                              bboxes  \n",
       "0                             [[316, 319, 511, 519]]  \n",
       "1                         [[3535, 2440, 3740, 2639]]  \n",
       "2                           [[3530, 329, 3725, 524]]  \n",
       "3  [[1286, 1244, 1383, 1344], [218, 123, 315, 223...  \n",
       "4                           [[292, 2510, 491, 2704]]  "
      ]
     },
     "execution_count": 12,
     "metadata": {},
     "output_type": "execute_result"
    }
   ],
   "source": [
    "df.head()"
   ]
  },
  {
   "cell_type": "code",
   "execution_count": 13,
   "metadata": {},
   "outputs": [],
   "source": [
    "df = df.dropna()"
   ]
  },
  {
   "cell_type": "code",
   "execution_count": 14,
   "metadata": {},
   "outputs": [],
   "source": [
    "df = df.reset_index(drop=True)"
   ]
  },
  {
   "cell_type": "code",
   "execution_count": 15,
   "metadata": {},
   "outputs": [
    {
     "data": {
      "text/plain": [
       "184"
      ]
     },
     "execution_count": 15,
     "metadata": {},
     "output_type": "execute_result"
    }
   ],
   "source": [
    "len(df)"
   ]
  },
  {
   "cell_type": "code",
   "execution_count": 16,
   "metadata": {},
   "outputs": [],
   "source": [
    "def bolts_count(x):\n",
    "    return int(str(x).split('_')[1])"
   ]
  },
  {
   "cell_type": "code",
   "execution_count": 17,
   "metadata": {},
   "outputs": [],
   "source": [
    "df['total_bolts'] = df.filename.apply(bolts_count)"
   ]
  },
  {
   "cell_type": "code",
   "execution_count": 18,
   "metadata": {},
   "outputs": [
    {
     "data": {
      "text/html": [
       "<div>\n",
       "<style scoped>\n",
       "    .dataframe tbody tr th:only-of-type {\n",
       "        vertical-align: middle;\n",
       "    }\n",
       "\n",
       "    .dataframe tbody tr th {\n",
       "        vertical-align: top;\n",
       "    }\n",
       "\n",
       "    .dataframe thead th {\n",
       "        text-align: right;\n",
       "    }\n",
       "</style>\n",
       "<table border=\"1\" class=\"dataframe\">\n",
       "  <thead>\n",
       "    <tr style=\"text-align: right;\">\n",
       "      <th></th>\n",
       "      <th>filename</th>\n",
       "      <th>width</th>\n",
       "      <th>height</th>\n",
       "      <th>class</th>\n",
       "      <th>bboxes</th>\n",
       "      <th>total_bolts</th>\n",
       "    </tr>\n",
       "  </thead>\n",
       "  <tbody>\n",
       "    <tr>\n",
       "      <th>0</th>\n",
       "      <td>/home/astamoulakatos/OneDrive_1_1-20-2022/imag...</td>\n",
       "      <td>4032</td>\n",
       "      <td>3024</td>\n",
       "      <td>Bolt</td>\n",
       "      <td>[[316, 319, 511, 519]]</td>\n",
       "      <td>1</td>\n",
       "    </tr>\n",
       "    <tr>\n",
       "      <th>1</th>\n",
       "      <td>/home/astamoulakatos/OneDrive_1_1-20-2022/imag...</td>\n",
       "      <td>4032</td>\n",
       "      <td>3024</td>\n",
       "      <td>Bolt</td>\n",
       "      <td>[[3535, 2440, 3740, 2639]]</td>\n",
       "      <td>1</td>\n",
       "    </tr>\n",
       "    <tr>\n",
       "      <th>2</th>\n",
       "      <td>/home/astamoulakatos/OneDrive_1_1-20-2022/imag...</td>\n",
       "      <td>4032</td>\n",
       "      <td>3024</td>\n",
       "      <td>Bolt</td>\n",
       "      <td>[[3530, 329, 3725, 524]]</td>\n",
       "      <td>1</td>\n",
       "    </tr>\n",
       "    <tr>\n",
       "      <th>3</th>\n",
       "      <td>/home/astamoulakatos/OneDrive_1_1-20-2022/imag...</td>\n",
       "      <td>1512</td>\n",
       "      <td>2016</td>\n",
       "      <td>Bolt</td>\n",
       "      <td>[[1286, 1244, 1383, 1344], [218, 123, 315, 223...</td>\n",
       "      <td>1</td>\n",
       "    </tr>\n",
       "    <tr>\n",
       "      <th>4</th>\n",
       "      <td>/home/astamoulakatos/OneDrive_1_1-20-2022/imag...</td>\n",
       "      <td>4032</td>\n",
       "      <td>3024</td>\n",
       "      <td>Bolt</td>\n",
       "      <td>[[292, 2510, 491, 2704]]</td>\n",
       "      <td>1</td>\n",
       "    </tr>\n",
       "  </tbody>\n",
       "</table>\n",
       "</div>"
      ],
      "text/plain": [
       "                                            filename width height class  \\\n",
       "0  /home/astamoulakatos/OneDrive_1_1-20-2022/imag...  4032   3024  Bolt   \n",
       "1  /home/astamoulakatos/OneDrive_1_1-20-2022/imag...  4032   3024  Bolt   \n",
       "2  /home/astamoulakatos/OneDrive_1_1-20-2022/imag...  4032   3024  Bolt   \n",
       "3  /home/astamoulakatos/OneDrive_1_1-20-2022/imag...  1512   2016  Bolt   \n",
       "4  /home/astamoulakatos/OneDrive_1_1-20-2022/imag...  4032   3024  Bolt   \n",
       "\n",
       "                                              bboxes  total_bolts  \n",
       "0                             [[316, 319, 511, 519]]            1  \n",
       "1                         [[3535, 2440, 3740, 2639]]            1  \n",
       "2                           [[3530, 329, 3725, 524]]            1  \n",
       "3  [[1286, 1244, 1383, 1344], [218, 123, 315, 223...            1  \n",
       "4                           [[292, 2510, 491, 2704]]            1  "
      ]
     },
     "execution_count": 18,
     "metadata": {},
     "output_type": "execute_result"
    }
   ],
   "source": [
    "df.head()"
   ]
  },
  {
   "cell_type": "code",
   "execution_count": 19,
   "metadata": {},
   "outputs": [],
   "source": [
    "df.to_csv('dataset.csv', index=False)"
   ]
  },
  {
   "cell_type": "code",
   "execution_count": null,
   "metadata": {},
   "outputs": [],
   "source": []
  }
 ],
 "metadata": {
  "kernelspec": {
   "display_name": "Python 3",
   "language": "python",
   "name": "python3"
  },
  "language_info": {
   "codemirror_mode": {
    "name": "ipython",
    "version": 3
   },
   "file_extension": ".py",
   "mimetype": "text/x-python",
   "name": "python",
   "nbconvert_exporter": "python",
   "pygments_lexer": "ipython3",
   "version": "3.7.7"
  }
 },
 "nbformat": 4,
 "nbformat_minor": 4
}
