{
 "cells": [
  {
   "cell_type": "code",
   "execution_count": 1,
   "metadata": {},
   "outputs": [],
   "source": [
    "%reload_ext autoreload\n",
    "%autoreload 2\n",
    "%matplotlib inline"
   ]
  },
  {
   "cell_type": "code",
   "execution_count": 2,
   "metadata": {},
   "outputs": [],
   "source": [
    "from utils import *"
   ]
  },
  {
   "cell_type": "code",
   "execution_count": 3,
   "metadata": {},
   "outputs": [],
   "source": [
    "def filelist(root, file_type):\n",
    "    \"\"\"Returns a fully-qualified list of filenames under root directory\"\"\"\n",
    "    return [os.path.join(directory_path, f) for directory_path, directory_name, \n",
    "            files in os.walk(root) for f in files if f.endswith(file_type)]"
   ]
  },
  {
   "cell_type": "code",
   "execution_count": 4,
   "metadata": {},
   "outputs": [],
   "source": [
    "def generate_df (anno_path, images_path):\n",
    "    annotations = filelist(anno_path, '.xml')\n",
    "    anno_list = []\n",
    "    for anno_path in annotations:\n",
    "        root = ET.parse(anno_path).getroot()\n",
    "        anno = {}\n",
    "        anno['filename'] = Path(str(images_path) + '/'+ root.find(\"./filename\").text)\n",
    "        anno['width'] = root.find(\"./size/width\").text\n",
    "        anno['height'] = root.find(\"./size/height\").text\n",
    "        if root.find(\"./object/name\")!= None:\n",
    "            anno['class'] = root.find(\"./object/name\").text\n",
    "        else:\n",
    "            anno['class'] = np.NaN\n",
    "        \n",
    "        bboxes = []\n",
    "        for neighbor in root.iter('bndbox'):\n",
    "            if root.find(\"./object/bndbox/xmin\") != None:\n",
    "                xmin = int(float(neighbor.find('xmin').text))\n",
    "                ymin = int(float(neighbor.find('ymin').text))\n",
    "                xmax = int(float(neighbor.find('xmax').text))\n",
    "                ymax = int(float(neighbor.find('ymax').text))\n",
    "\n",
    "                bboxes.append([xmin, ymin, xmax, ymax])\n",
    "                anno['bboxes'] = bboxes\n",
    "            else: \n",
    "                anno['bboxes'] = np.NaN     \n",
    "       \n",
    "        anno_list.append(anno)\n",
    "    return pd.DataFrame(anno_list)"
   ]
  },
  {
   "cell_type": "code",
   "execution_count": 5,
   "metadata": {},
   "outputs": [],
   "source": [
    "root_img = '/mnt/hdd/astamoulakatos/NMIS/images/'\n",
    "root_annotation = '/mnt/hdd/astamoulakatos/NMIS/bolts-xml-annotations/Annotations/'\n",
    "df = generate_df(root_annotation, root_img)"
   ]
  },
  {
   "cell_type": "code",
   "execution_count": 6,
   "metadata": {},
   "outputs": [
    {
     "data": {
      "text/html": [
       "<div>\n",
       "<style scoped>\n",
       "    .dataframe tbody tr th:only-of-type {\n",
       "        vertical-align: middle;\n",
       "    }\n",
       "\n",
       "    .dataframe tbody tr th {\n",
       "        vertical-align: top;\n",
       "    }\n",
       "\n",
       "    .dataframe thead th {\n",
       "        text-align: right;\n",
       "    }\n",
       "</style>\n",
       "<table border=\"1\" class=\"dataframe\">\n",
       "  <thead>\n",
       "    <tr style=\"text-align: right;\">\n",
       "      <th></th>\n",
       "      <th>filename</th>\n",
       "      <th>width</th>\n",
       "      <th>height</th>\n",
       "      <th>class</th>\n",
       "      <th>bboxes</th>\n",
       "    </tr>\n",
       "  </thead>\n",
       "  <tbody>\n",
       "    <tr>\n",
       "      <th>0</th>\n",
       "      <td>/mnt/hdd/astamoulakatos/NMIS/images/2021-10-29...</td>\n",
       "      <td>4032</td>\n",
       "      <td>3024</td>\n",
       "      <td>Bolt</td>\n",
       "      <td>[[3530, 2445, 3730, 2644]]</td>\n",
       "    </tr>\n",
       "    <tr>\n",
       "      <th>1</th>\n",
       "      <td>/mnt/hdd/astamoulakatos/NMIS/images/2021-10-29...</td>\n",
       "      <td>4032</td>\n",
       "      <td>3024</td>\n",
       "      <td>Bolt</td>\n",
       "      <td>[[351, 319, 546, 519]]</td>\n",
       "    </tr>\n",
       "    <tr>\n",
       "      <th>2</th>\n",
       "      <td>/mnt/hdd/astamoulakatos/NMIS/images/2021-10-29...</td>\n",
       "      <td>4032</td>\n",
       "      <td>3024</td>\n",
       "      <td>Bolt</td>\n",
       "      <td>[[287, 1023, 486, 1227], [1404, 2490, 1604, 26...</td>\n",
       "    </tr>\n",
       "    <tr>\n",
       "      <th>3</th>\n",
       "      <td>/mnt/hdd/astamoulakatos/NMIS/images/2021-10-29...</td>\n",
       "      <td>4032</td>\n",
       "      <td>3024</td>\n",
       "      <td>Bolt</td>\n",
       "      <td>[[272, 1018, 466, 1212], [1399, 2495, 1599, 26...</td>\n",
       "    </tr>\n",
       "    <tr>\n",
       "      <th>4</th>\n",
       "      <td>/mnt/hdd/astamoulakatos/NMIS/images/2021-10-29...</td>\n",
       "      <td>4032</td>\n",
       "      <td>3024</td>\n",
       "      <td>Bolt</td>\n",
       "      <td>[[356, 389, 561, 588]]</td>\n",
       "    </tr>\n",
       "  </tbody>\n",
       "</table>\n",
       "</div>"
      ],
      "text/plain": [
       "                                            filename width height class  \\\n",
       "0  /mnt/hdd/astamoulakatos/NMIS/images/2021-10-29...  4032   3024  Bolt   \n",
       "1  /mnt/hdd/astamoulakatos/NMIS/images/2021-10-29...  4032   3024  Bolt   \n",
       "2  /mnt/hdd/astamoulakatos/NMIS/images/2021-10-29...  4032   3024  Bolt   \n",
       "3  /mnt/hdd/astamoulakatos/NMIS/images/2021-10-29...  4032   3024  Bolt   \n",
       "4  /mnt/hdd/astamoulakatos/NMIS/images/2021-10-29...  4032   3024  Bolt   \n",
       "\n",
       "                                              bboxes  \n",
       "0                         [[3530, 2445, 3730, 2644]]  \n",
       "1                             [[351, 319, 546, 519]]  \n",
       "2  [[287, 1023, 486, 1227], [1404, 2490, 1604, 26...  \n",
       "3  [[272, 1018, 466, 1212], [1399, 2495, 1599, 26...  \n",
       "4                             [[356, 389, 561, 588]]  "
      ]
     },
     "execution_count": 6,
     "metadata": {},
     "output_type": "execute_result"
    }
   ],
   "source": [
    "df.head()"
   ]
  },
  {
   "cell_type": "code",
   "execution_count": 7,
   "metadata": {},
   "outputs": [],
   "source": [
    "df = df.dropna()"
   ]
  },
  {
   "cell_type": "code",
   "execution_count": 8,
   "metadata": {},
   "outputs": [],
   "source": [
    "df = df.reset_index(drop=True)"
   ]
  },
  {
   "cell_type": "code",
   "execution_count": 9,
   "metadata": {},
   "outputs": [
    {
     "data": {
      "text/plain": [
       "107"
      ]
     },
     "execution_count": 9,
     "metadata": {},
     "output_type": "execute_result"
    }
   ],
   "source": [
    "len(df)"
   ]
  },
  {
   "cell_type": "code",
   "execution_count": 10,
   "metadata": {},
   "outputs": [],
   "source": [
    "def bolts_count(x):\n",
    "    return int(str(x).split('_')[1])"
   ]
  },
  {
   "cell_type": "code",
   "execution_count": 17,
   "metadata": {},
   "outputs": [],
   "source": [
    "df['total_bolts'] = df.filename.apply(bolts_count)"
   ]
  },
  {
   "cell_type": "code",
   "execution_count": 18,
   "metadata": {},
   "outputs": [
    {
     "data": {
      "text/html": [
       "<div>\n",
       "<style scoped>\n",
       "    .dataframe tbody tr th:only-of-type {\n",
       "        vertical-align: middle;\n",
       "    }\n",
       "\n",
       "    .dataframe tbody tr th {\n",
       "        vertical-align: top;\n",
       "    }\n",
       "\n",
       "    .dataframe thead th {\n",
       "        text-align: right;\n",
       "    }\n",
       "</style>\n",
       "<table border=\"1\" class=\"dataframe\">\n",
       "  <thead>\n",
       "    <tr style=\"text-align: right;\">\n",
       "      <th></th>\n",
       "      <th>filename</th>\n",
       "      <th>width</th>\n",
       "      <th>height</th>\n",
       "      <th>class</th>\n",
       "      <th>bboxes</th>\n",
       "      <th>total_bolts</th>\n",
       "    </tr>\n",
       "  </thead>\n",
       "  <tbody>\n",
       "    <tr>\n",
       "      <th>0</th>\n",
       "      <td>/mnt/hdd/astamoulakatos/NMIS/images/2021-10-29...</td>\n",
       "      <td>4032</td>\n",
       "      <td>3024</td>\n",
       "      <td>Bolt</td>\n",
       "      <td>[[3530, 2445, 3730, 2644]]</td>\n",
       "      <td>1</td>\n",
       "    </tr>\n",
       "    <tr>\n",
       "      <th>1</th>\n",
       "      <td>/mnt/hdd/astamoulakatos/NMIS/images/2021-10-29...</td>\n",
       "      <td>4032</td>\n",
       "      <td>3024</td>\n",
       "      <td>Bolt</td>\n",
       "      <td>[[351, 319, 546, 519]]</td>\n",
       "      <td>1</td>\n",
       "    </tr>\n",
       "    <tr>\n",
       "      <th>2</th>\n",
       "      <td>/mnt/hdd/astamoulakatos/NMIS/images/2021-10-29...</td>\n",
       "      <td>4032</td>\n",
       "      <td>3024</td>\n",
       "      <td>Bolt</td>\n",
       "      <td>[[287, 1023, 486, 1227], [1404, 2490, 1604, 26...</td>\n",
       "      <td>3</td>\n",
       "    </tr>\n",
       "    <tr>\n",
       "      <th>3</th>\n",
       "      <td>/mnt/hdd/astamoulakatos/NMIS/images/2021-10-29...</td>\n",
       "      <td>4032</td>\n",
       "      <td>3024</td>\n",
       "      <td>Bolt</td>\n",
       "      <td>[[272, 1018, 466, 1212], [1399, 2495, 1599, 26...</td>\n",
       "      <td>3</td>\n",
       "    </tr>\n",
       "    <tr>\n",
       "      <th>4</th>\n",
       "      <td>/mnt/hdd/astamoulakatos/NMIS/images/2021-10-29...</td>\n",
       "      <td>4032</td>\n",
       "      <td>3024</td>\n",
       "      <td>Bolt</td>\n",
       "      <td>[[356, 389, 561, 588]]</td>\n",
       "      <td>1</td>\n",
       "    </tr>\n",
       "  </tbody>\n",
       "</table>\n",
       "</div>"
      ],
      "text/plain": [
       "                                            filename width height class  \\\n",
       "0  /mnt/hdd/astamoulakatos/NMIS/images/2021-10-29...  4032   3024  Bolt   \n",
       "1  /mnt/hdd/astamoulakatos/NMIS/images/2021-10-29...  4032   3024  Bolt   \n",
       "2  /mnt/hdd/astamoulakatos/NMIS/images/2021-10-29...  4032   3024  Bolt   \n",
       "3  /mnt/hdd/astamoulakatos/NMIS/images/2021-10-29...  4032   3024  Bolt   \n",
       "4  /mnt/hdd/astamoulakatos/NMIS/images/2021-10-29...  4032   3024  Bolt   \n",
       "\n",
       "                                              bboxes  total_bolts  \n",
       "0                         [[3530, 2445, 3730, 2644]]            1  \n",
       "1                             [[351, 319, 546, 519]]            1  \n",
       "2  [[287, 1023, 486, 1227], [1404, 2490, 1604, 26...            3  \n",
       "3  [[272, 1018, 466, 1212], [1399, 2495, 1599, 26...            3  \n",
       "4                             [[356, 389, 561, 588]]            1  "
      ]
     },
     "execution_count": 18,
     "metadata": {},
     "output_type": "execute_result"
    }
   ],
   "source": [
    "df.head()"
   ]
  },
  {
   "cell_type": "code",
   "execution_count": 14,
   "metadata": {},
   "outputs": [],
   "source": [
    "df.to_csv('dataset.csv', index=False)"
   ]
  },
  {
   "cell_type": "code",
   "execution_count": null,
   "metadata": {},
   "outputs": [],
   "source": []
  }
 ],
 "metadata": {
  "kernelspec": {
   "display_name": "Python 3",
   "language": "python",
   "name": "python3"
  },
  "language_info": {
   "codemirror_mode": {
    "name": "ipython",
    "version": 3
   },
   "file_extension": ".py",
   "mimetype": "text/x-python",
   "name": "python",
   "nbconvert_exporter": "python",
   "pygments_lexer": "ipython3",
   "version": "3.8.3"
  }
 },
 "nbformat": 4,
 "nbformat_minor": 4
}
